{
 "cells": [
  {
   "cell_type": "code",
   "execution_count": 171,
   "metadata": {},
   "outputs": [],
   "source": [
    "# -*- coding: utf-8 -*-\n",
    "\"\"\"\n",
    "@author: xiaoyu.si\n",
    "\"\"\"\n",
    "from PIL import Image\n",
    "from PIL import ImageFilter\n",
    "from matplotlib import pyplot as plt \n",
    "import numpy as np\n",
    "import time"
   ]
  },
  {
   "cell_type": "code",
   "execution_count": 141,
   "metadata": {
    "scrolled": true
   },
   "outputs": [],
   "source": [
    "def load_origin(img_path):    \n",
    "    img = Image.open(img_path)\n",
    "    if img.size[0]>500 and img.size[1]>600:\n",
    "        img = img.resize((img.size[0]//2,img.size[1]//2)) \n",
    "    w, h = img.size\n",
    "    return img,w,h"
   ]
  },
  {
   "cell_type": "code",
   "execution_count": 168,
   "metadata": {},
   "outputs": [],
   "source": [
    "'''\n",
    "定義：\n",
    "brush：模擬筆刷滑動區塊\n",
    "sharp：圖片的平滑模糊程度，越小越模糊，越大越銳利\n",
    "'''\n",
    "def oilPainting(imagePath, brush, sharp, output):\n",
    "    img,width,height = load_origin(imagePath)\n",
    "    gray = img.convert(\"L\")\n",
    "    target = Image.new(\"RGB\", (width, height))\n",
    "    gray_pix = gray.load()\n",
    "    img_pix = img.load()\n",
    "    target_pix = target.load()\n",
    "    \n",
    "    for i in range(brush, width - brush):\n",
    "        for j in range(brush, height - brush):\n",
    "            count = np.zeros((256,)).astype(int)\n",
    "            R = np.zeros((256, )).astype(int)\n",
    "            G = np.zeros((256, )).astype(int)\n",
    "            B = np.zeros((256, )).astype(int)\n",
    "        \n",
    "            # 遍歷筆刷區塊像素\n",
    "            for r in range(-brush, brush+1):\n",
    "                for c in range(-brush, brush+1):\n",
    "                    intensity = int(gray_pix[i+r, j+c] * sharp / 255)\n",
    "                    count[intensity] += 1\n",
    "                    pix = img_pix[i+r, j+c]\n",
    "                    R[intensity] += pix[0]\n",
    "                    G[intensity] += pix[1]\n",
    "                    B[intensity] += pix[2]\n",
    "            most_cnt = max(count)      \n",
    "            most_idx = np.argmax(count)\n",
    "        \n",
    "            # 重新填色\n",
    "            for r in range(-brush, brush+1):\n",
    "                for c in range(-brush, brush+1):\n",
    "                    target_pix[i+r,j+c] = (int(R[most_idx]/most_cnt), int(G[most_idx]/most_cnt), int(B[most_idx]/most_cnt))\n",
    "    target = target.filter(ImageFilter.SMOOTH)\n",
    "    target.save(output)"
   ]
  },
  {
   "cell_type": "code",
   "execution_count": 173,
   "metadata": {},
   "outputs": [
    {
     "name": "stdout",
     "output_type": "stream",
     "text": [
      "Time cost is 1 m 29 s\n"
     ]
    }
   ],
   "source": [
    "start_time = time.time()\n",
    "oilPainting(\"troye.jpg\", 4, 5, \"oil_1.jpg\")\n",
    "end_time = time.time()\n",
    "cost = end_time - start_time\n",
    "sec = cost % 60\n",
    "minute = cost // 60\n",
    "print(\"Time cost is %d m %d s\" % (minute,sec)) "
   ]
  },
  {
   "cell_type": "code",
   "execution_count": 170,
   "metadata": {},
   "outputs": [],
   "source": [
    "oilPainting(\"troye.jpg\", 4, 100, \"oil_2.jpg\")\n",
    "target.show()"
   ]
  }
 ],
 "metadata": {
  "kernelspec": {
   "display_name": "Python 3",
   "language": "python",
   "name": "python3"
  },
  "language_info": {
   "codemirror_mode": {
    "name": "ipython",
    "version": 3
   },
   "file_extension": ".py",
   "mimetype": "text/x-python",
   "name": "python",
   "nbconvert_exporter": "python",
   "pygments_lexer": "ipython3",
   "version": "3.6.10"
  }
 },
 "nbformat": 4,
 "nbformat_minor": 4
}
